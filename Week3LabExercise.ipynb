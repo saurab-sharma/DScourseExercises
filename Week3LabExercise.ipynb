{
 "cells": [
  {
   "cell_type": "code",
   "execution_count": 2,
   "id": "091cd977",
   "metadata": {},
   "outputs": [
    {
     "name": "stdout",
     "output_type": "stream",
     "text": [
      "Populating the interactive namespace from numpy and matplotlib\n"
     ]
    }
   ],
   "source": [
    "import pandas as pd\n",
    "import numpy as np\n",
    "import matplotlib.pyplot as plt\n",
    "%pylab inline"
   ]
  },
  {
   "cell_type": "code",
   "execution_count": 3,
   "id": "dc6c37e2",
   "metadata": {},
   "outputs": [
    {
     "data": {
      "text/plain": [
       "0    1.0\n",
       "2    3.5\n",
       "4    7.0\n",
       "dtype: float64"
      ]
     },
     "execution_count": 3,
     "metadata": {},
     "output_type": "execute_result"
    }
   ],
   "source": [
    "# ACTVITY -A1.1 -  HANDLING MISSING DATA example1\n",
    "from numpy import nan as NA\n",
    "data=pd.Series([1, NA,3.5, NA,7])\n",
    "data.dropna()\n",
    "\n"
   ]
  },
  {
   "cell_type": "code",
   "execution_count": 8,
   "id": "28d6da54",
   "metadata": {},
   "outputs": [
    {
     "name": "stdout",
     "output_type": "stream",
     "text": [
      "     0    1    2\n",
      "0  1.0  6.5  3.0\n",
      "1  1.0  NaN  NaN\n",
      "2  NaN  NaN  NaN\n",
      "3  NaN  6.5  3.0\n",
      "\n",
      "=== after cleaning===\n",
      "\n",
      "     0    1    2\n",
      "0  1.0  6.5  3.0\n"
     ]
    }
   ],
   "source": [
    "# ACTVITY -A1.1 -  HANDLING MISSING DATA example2\n",
    "data=pd.DataFrame([[1.,6.5,3.],[1.,NA,NA],\n",
    "                   [NA,NA,NA],[NA,6.5,3]])\n",
    "cleaned=data.dropna()\n",
    "print(data)\n",
    "print(\"\\n=== after cleaning===\\n\")\n",
    "print(cleaned)"
   ]
  },
  {
   "cell_type": "code",
   "execution_count": 42,
   "id": "3cda9f73",
   "metadata": {},
   "outputs": [
    {
     "name": "stdout",
     "output_type": "stream",
     "text": [
      "\n",
      "printing the data frame with randomly generated numbers\n",
      "\n",
      "                 0            1            2            3\n",
      "count  1000.000000  1000.000000  1000.000000  1000.000000\n",
      "mean      0.020270    -0.015122     0.042541    -0.045019\n",
      "std       0.999525     1.022176     1.001423     1.030492\n",
      "min      -2.967588    -3.045127    -4.274420    -3.662722\n",
      "25%      -0.666099    -0.706387    -0.596928    -0.745853\n",
      "50%       0.037891    -0.045392     0.031653    -0.060061\n",
      "75%       0.723165     0.675226     0.709057     0.675949\n",
      "max       3.110218     3.312900     3.170542     2.901585\n",
      "\n",
      "find values in one of the columns exceeding 3 in absolute value\n",
      "\n",
      "179   -4.274420\n",
      "225    3.170542\n",
      "352   -3.031810\n",
      "Name: 2, dtype: float64\n",
      "\n",
      "select all rows having a value exceeding 3 or -3\n",
      "\n",
      "            0         1         2         3\n",
      "31  -0.013855 -3.045127 -0.798284 -0.683518\n",
      "179  1.221334  1.594498 -4.274420 -1.955978\n",
      "225 -0.329852 -0.489584  3.170542 -0.091430\n",
      "352 -0.290073  0.189035 -3.031810  0.394757\n",
      "414 -0.380559  0.469970  0.712799 -3.040022\n",
      "499  1.640979 -0.113013 -0.898142 -3.070414\n",
      "522  0.140813  3.193930  2.355463  2.017503\n",
      "868  3.110218  0.963828  0.539318  0.545783\n",
      "911 -1.019765  1.765516  1.497644 -3.201285\n",
      "915  1.679352  3.271896  0.406951 -0.609056\n",
      "953 -0.256223 -0.059908  1.262409 -3.662722\n",
      "977 -0.301747  3.312900 -1.983811 -0.695982\n",
      "Values can be set based on these criteria\n"
     ]
    },
    {
     "data": {
      "text/html": [
       "<div>\n",
       "<style scoped>\n",
       "    .dataframe tbody tr th:only-of-type {\n",
       "        vertical-align: middle;\n",
       "    }\n",
       "\n",
       "    .dataframe tbody tr th {\n",
       "        vertical-align: top;\n",
       "    }\n",
       "\n",
       "    .dataframe thead th {\n",
       "        text-align: right;\n",
       "    }\n",
       "</style>\n",
       "<table border=\"1\" class=\"dataframe\">\n",
       "  <thead>\n",
       "    <tr style=\"text-align: right;\">\n",
       "      <th></th>\n",
       "      <th>0</th>\n",
       "      <th>1</th>\n",
       "      <th>2</th>\n",
       "      <th>3</th>\n",
       "    </tr>\n",
       "  </thead>\n",
       "  <tbody>\n",
       "    <tr>\n",
       "      <th>count</th>\n",
       "      <td>1000.000000</td>\n",
       "      <td>1000.000000</td>\n",
       "      <td>1000.000000</td>\n",
       "      <td>1000.000000</td>\n",
       "    </tr>\n",
       "    <tr>\n",
       "      <th>mean</th>\n",
       "      <td>0.020160</td>\n",
       "      <td>-0.015856</td>\n",
       "      <td>0.043677</td>\n",
       "      <td>-0.044045</td>\n",
       "    </tr>\n",
       "    <tr>\n",
       "      <th>std</th>\n",
       "      <td>0.999190</td>\n",
       "      <td>1.019637</td>\n",
       "      <td>0.996104</td>\n",
       "      <td>1.027454</td>\n",
       "    </tr>\n",
       "    <tr>\n",
       "      <th>min</th>\n",
       "      <td>-2.967588</td>\n",
       "      <td>-3.000000</td>\n",
       "      <td>-3.000000</td>\n",
       "      <td>-3.000000</td>\n",
       "    </tr>\n",
       "    <tr>\n",
       "      <th>25%</th>\n",
       "      <td>-0.666099</td>\n",
       "      <td>-0.706387</td>\n",
       "      <td>-0.596928</td>\n",
       "      <td>-0.745853</td>\n",
       "    </tr>\n",
       "    <tr>\n",
       "      <th>50%</th>\n",
       "      <td>0.037891</td>\n",
       "      <td>-0.045392</td>\n",
       "      <td>0.031653</td>\n",
       "      <td>-0.060061</td>\n",
       "    </tr>\n",
       "    <tr>\n",
       "      <th>75%</th>\n",
       "      <td>0.723165</td>\n",
       "      <td>0.675226</td>\n",
       "      <td>0.709057</td>\n",
       "      <td>0.675949</td>\n",
       "    </tr>\n",
       "    <tr>\n",
       "      <th>max</th>\n",
       "      <td>3.000000</td>\n",
       "      <td>3.000000</td>\n",
       "      <td>3.000000</td>\n",
       "      <td>2.901585</td>\n",
       "    </tr>\n",
       "  </tbody>\n",
       "</table>\n",
       "</div>"
      ],
      "text/plain": [
       "                 0            1            2            3\n",
       "count  1000.000000  1000.000000  1000.000000  1000.000000\n",
       "mean      0.020160    -0.015856     0.043677    -0.044045\n",
       "std       0.999190     1.019637     0.996104     1.027454\n",
       "min      -2.967588    -3.000000    -3.000000    -3.000000\n",
       "25%      -0.666099    -0.706387    -0.596928    -0.745853\n",
       "50%       0.037891    -0.045392     0.031653    -0.060061\n",
       "75%       0.723165     0.675226     0.709057     0.675949\n",
       "max       3.000000     3.000000     3.000000     2.901585"
      ]
     },
     "execution_count": 42,
     "metadata": {},
     "output_type": "execute_result"
    }
   ],
   "source": [
    "# ACTVITY -A1.2 - Detecting and filtering outliers\n",
    "data=pd.DataFrame(np.random.randn(1000,4))\n",
    "\n",
    "print(\"\\nprinting the data frame with randomly generated numbers\\n\")\n",
    "print(data.describe())\n",
    "\n",
    "#values can be set based on these criteria\n",
    "\n",
    "print(\"\\nfind values in one of the columns exceeding 3 in absolute value\\n\")\n",
    "col=data[2]\n",
    "grthan=col[np.abs(col)>3]\n",
    "print(grthan)\n",
    "\n",
    "# select all rows having a value exceeding 3 or -3\n",
    "#you can use the any method on a boolean data frame.\n",
    "print(\"\\nselect all rows having a value exceeding 3 or -3\\n\")\n",
    "print(data[(np.abs(data) >3).any(1)])\n",
    "\n",
    "#values can be set based on these criteria\n",
    "\n",
    "print(\"Values can be set based on these criteria\")\n",
    "data[np.abs(data)>3]=np.sign(data)*3\n",
    "data.describe()"
   ]
  },
  {
   "cell_type": "code",
   "execution_count": 93,
   "id": "c3fb1925",
   "metadata": {},
   "outputs": [
    {
     "name": "stdout",
     "output_type": "stream",
     "text": [
      "       date State  Population  Unemployment Rate  House price index\n",
      "0  1-Dec-05   NSW     6718023                5.3               81.8\n",
      "1  1-Mar-06   NSW     6735528                5.0               80.8\n",
      "2  1-Jun-06   NSW     6742690                5.3               82.3\n",
      "3  1-Sep-06   NSW     6766133                5.2               82.0\n",
      "4  1-Dec-06   NSW     6786160                4.8               82.7\n"
     ]
    }
   ],
   "source": [
    "# ACTVITY -A1.3 - read houseNSW csv into data frames\n",
    "#print top 5 records using head\n",
    "import pandas as pd\n",
    "housensw=pd.read_csv(\"House_priceNSW.csv\",delimiter=',')\n",
    "print(housensw.head(5))\n"
   ]
  },
  {
   "cell_type": "code",
   "execution_count": 110,
   "id": "3d1152c0",
   "metadata": {},
   "outputs": [
    {
     "name": "stdout",
     "output_type": "stream",
     "text": [
      "       date State  Population  Unemployment Rate  House price index\n",
      "0  1-Dec-05   NSW     6718023                5.3               81.8\n",
      "1  1-Mar-06   NSW     6735528                5.0               80.8\n",
      "2  1-Jun-06   NSW     6742690                5.3               82.3\n",
      "3  1-Sep-06   NSW     6766133                5.2               82.0\n",
      "4  1-Dec-06   NSW     6786160                4.8               82.7\n",
      "5  1-Mar-07   NSW     6815359                5.0               81.9\n",
      "       date State  Population  Unemployment Rate  House price index\n",
      "0  1-Dec-05   NSW   6718023.0                5.3               81.8\n",
      "1       NaN   NaN         NaN                NaN                NaN\n",
      "2  1-Jun-06   NSW   6742690.0                5.3               82.3\n",
      "3  1-Sep-06   NSW   6766133.0                5.2               82.0\n",
      "4  1-Dec-06   NSW   6786160.0                4.8               82.7\n",
      "5       NaN   NaN         NaN                NaN                NaN\n"
     ]
    },
    {
     "data": {
      "text/html": [
       "<div>\n",
       "<style scoped>\n",
       "    .dataframe tbody tr th:only-of-type {\n",
       "        vertical-align: middle;\n",
       "    }\n",
       "\n",
       "    .dataframe tbody tr th {\n",
       "        vertical-align: top;\n",
       "    }\n",
       "\n",
       "    .dataframe thead th {\n",
       "        text-align: right;\n",
       "    }\n",
       "</style>\n",
       "<table border=\"1\" class=\"dataframe\">\n",
       "  <thead>\n",
       "    <tr style=\"text-align: right;\">\n",
       "      <th></th>\n",
       "      <th>date</th>\n",
       "      <th>State</th>\n",
       "      <th>Population</th>\n",
       "      <th>Unemployment Rate</th>\n",
       "      <th>House price index</th>\n",
       "    </tr>\n",
       "  </thead>\n",
       "  <tbody>\n",
       "    <tr>\n",
       "      <th>0</th>\n",
       "      <td>1-Dec-05</td>\n",
       "      <td>NSW</td>\n",
       "      <td>6718023.0</td>\n",
       "      <td>5.3</td>\n",
       "      <td>81.8</td>\n",
       "    </tr>\n",
       "    <tr>\n",
       "      <th>2</th>\n",
       "      <td>1-Jun-06</td>\n",
       "      <td>NSW</td>\n",
       "      <td>6742690.0</td>\n",
       "      <td>5.3</td>\n",
       "      <td>82.3</td>\n",
       "    </tr>\n",
       "    <tr>\n",
       "      <th>3</th>\n",
       "      <td>1-Sep-06</td>\n",
       "      <td>NSW</td>\n",
       "      <td>6766133.0</td>\n",
       "      <td>5.2</td>\n",
       "      <td>82.0</td>\n",
       "    </tr>\n",
       "    <tr>\n",
       "      <th>4</th>\n",
       "      <td>1-Dec-06</td>\n",
       "      <td>NSW</td>\n",
       "      <td>6786160.0</td>\n",
       "      <td>4.8</td>\n",
       "      <td>82.7</td>\n",
       "    </tr>\n",
       "    <tr>\n",
       "      <th>6</th>\n",
       "      <td>1-Jun-07</td>\n",
       "      <td>NSW</td>\n",
       "      <td>6834156.0</td>\n",
       "      <td>4.6</td>\n",
       "      <td>85.2</td>\n",
       "    </tr>\n",
       "    <tr>\n",
       "      <th>7</th>\n",
       "      <td>1-Sep-07</td>\n",
       "      <td>NSW</td>\n",
       "      <td>6859736.0</td>\n",
       "      <td>4.7</td>\n",
       "      <td>87.3</td>\n",
       "    </tr>\n",
       "  </tbody>\n",
       "</table>\n",
       "</div>"
      ],
      "text/plain": [
       "       date State  Population  Unemployment Rate  House price index\n",
       "0  1-Dec-05   NSW   6718023.0                5.3               81.8\n",
       "2  1-Jun-06   NSW   6742690.0                5.3               82.3\n",
       "3  1-Sep-06   NSW   6766133.0                5.2               82.0\n",
       "4  1-Dec-06   NSW   6786160.0                4.8               82.7\n",
       "6  1-Jun-07   NSW   6834156.0                4.6               85.2\n",
       "7  1-Sep-07   NSW   6859736.0                4.7               87.3"
      ]
     },
     "execution_count": 110,
     "metadata": {},
     "output_type": "execute_result"
    }
   ],
   "source": [
    "# ACTVITY -A1.3 - read houseNSW csv into data frames\n",
    "#insert NA and then drop NA\n",
    "import pandas as pd\n",
    "housensw=pd.read_csv(\"House_priceNSW.csv\",delimiter=',')\n",
    "print(housensw.head(6))\n",
    "housensw[housensw[\"Unemployment Rate\"] == 5.0] =NA\n",
    "print(housensw.head(6))\n",
    "housensw.dropna().head(6)\n"
   ]
  },
  {
   "cell_type": "code",
   "execution_count": 125,
   "id": "679bfb4f",
   "metadata": {},
   "outputs": [
    {
     "name": "stdout",
     "output_type": "stream",
     "text": [
      "        city country                   date.utc location parameter  value  \\\n",
      "0  Antwerpen      BE  2019-06-18 06:00:00+00:00  BETR801      pm25   18.0   \n",
      "1  Antwerpen      BE  2019-06-17 08:00:00+00:00  BETR801      pm25    6.5   \n",
      "2  Antwerpen      BE  2019-06-17 07:00:00+00:00  BETR801      pm25   18.5   \n",
      "3  Antwerpen      BE  2019-06-17 06:00:00+00:00  BETR801      pm25   16.0   \n",
      "4  Antwerpen      BE  2019-06-17 05:00:00+00:00  BETR801      pm25    7.5   \n",
      "\n",
      "    unit  \n",
      "0  µg/m³  \n",
      "1  µg/m³  \n",
      "2  µg/m³  \n",
      "3  µg/m³  \n",
      "4  µg/m³  \n",
      "    city country                   date.utc location parameter  value   unit\n",
      "0  Paris      FR  2019-06-21 00:00:00+00:00  FR04014       no2   20.0  µg/m³\n",
      "1  Paris      FR  2019-06-20 23:00:00+00:00  FR04014       no2   21.8  µg/m³\n",
      "2  Paris      FR  2019-06-20 22:00:00+00:00  FR04014       no2   26.5  µg/m³\n",
      "3  Paris      FR  2019-06-20 21:00:00+00:00  FR04014       no2   24.9  µg/m³\n",
      "4  Paris      FR  2019-06-20 20:00:00+00:00  FR04014       no2   21.4  µg/m³\n"
     ]
    }
   ],
   "source": [
    "#activity A2 - Data wrangling - combine data from multiple tables.\n",
    "import pandas as pd\n",
    "air_quality_no2=pd.read_csv(\"air_quality_no2_long.csv\", parse_dates=True)\n",
    "air_quality_pm25=pd.read_csv(\"air_quality_pm25_long.csv\",parse_dates=True)\n",
    "#using df.head() command checking 2 data sets\n",
    "print(air_quality_pm25.head())\n",
    "print(air_quality_no2.head())\n",
    "#find number of rows & columns in each data frame"
   ]
  },
  {
   "cell_type": "code",
   "execution_count": 127,
   "id": "fc1615b9",
   "metadata": {},
   "outputs": [
    {
     "name": "stdout",
     "output_type": "stream",
     "text": [
      "rows in air_quality_pm25_long.csv =  1110\n",
      "columns in air_quality_pm25_long.csv =  7\n",
      "rows in air_quality_no2_long.csv =  2068\n",
      "columns in air_quality_no2_long.csv=  7\n"
     ]
    }
   ],
   "source": [
    "#activity A2 - Data wrangling - combine data from multiple tables.\n",
    "import pandas as pd\n",
    "air_quality_no2=pd.read_csv(\"air_quality_no2_long.csv\", parse_dates=True)\n",
    "air_quality_pm25=pd.read_csv(\"air_quality_pm25_long.csv\",parse_dates=True)\n",
    "count_row=air_quality_pm25.shape[0]\n",
    "count_col=air_quality_pm25.shape[1]\n",
    "print(\"rows in air_quality_pm25_long.csv = \",count_row)\n",
    "print(\"columns in air_quality_pm25_long.csv = \",count_col)\n",
    "count_row=air_quality_no2.shape[0]\n",
    "count_col=air_quality_no2.shape[1]\n",
    "print(\"rows in air_quality_no2_long.csv = \",count_row)\n",
    "print(\"columns in air_quality_no2_long.csv= \",count_col)\n"
   ]
  },
  {
   "cell_type": "code",
   "execution_count": 2,
   "id": "4c2abb14",
   "metadata": {
    "scrolled": false
   },
   "outputs": [
    {
     "name": "stdout",
     "output_type": "stream",
     "text": [
      "<class 'pandas.core.frame.DataFrame'>\n",
      "Int64Index: 3178 entries, 0 to 2067\n",
      "Data columns (total 7 columns):\n",
      " #   Column     Non-Null Count  Dtype  \n",
      "---  ------     --------------  -----  \n",
      " 0   city       3178 non-null   object \n",
      " 1   country    3178 non-null   object \n",
      " 2   date.utc   3178 non-null   object \n",
      " 3   location   3178 non-null   object \n",
      " 4   parameter  3178 non-null   object \n",
      " 5   value      3178 non-null   float64\n",
      " 6   unit       3178 non-null   object \n",
      "dtypes: float64(1), object(6)\n",
      "memory usage: 198.6+ KB\n"
     ]
    }
   ],
   "source": [
    "#activity A2 - Data wrangling - combine data from multiple tables.\n",
    "import pandas as pd\n",
    "air_quality_no2=pd.read_csv(\"air_quality_no2_long.csv\", parse_dates=True)\n",
    "air_quality_pm25=pd.read_csv(\"air_quality_pm25_long.csv\",parse_dates=True)\n",
    "\n",
    "air_quality=pd.concat([air_quality_pm25,air_quality_no2],axis=0)\n",
    "count_row_concat=air_quality.shape[0]\n",
    "#print(count_row_concat)\n",
    "air_quality.info()"
   ]
  },
  {
   "cell_type": "code",
   "execution_count": 29,
   "id": "b83caae2",
   "metadata": {
    "scrolled": true
   },
   "outputs": [
    {
     "data": {
      "text/plain": [
       "<module 'seaborn' from 'C:\\\\Users\\\\ssharma1\\\\Anaconda3\\\\lib\\\\site-packages\\\\seaborn\\\\__init__.py'>"
      ]
     },
     "execution_count": 29,
     "metadata": {},
     "output_type": "execute_result"
    },
    {
     "data": {
      "image/png": "[encoded data removed]",
      "text/plain": [
       "<Figure size 432x288 with 1 Axes>"
      ]
     },
     "metadata": {
      "needs_background": "light"
     },
     "output_type": "display_data"
    }
   ],
   "source": [
    "#use group by\n",
    "import pandas as pd\n",
    "import numpy as np\n",
    "import matplotlib.pyplot as plt\n",
    "import seaborn as sns\n",
    "data2=air_quality.groupby('location')['location'].count()\n",
    "sns.barplot(y=data2.values,x=data2.index)\n",
    "sns"
   ]
  },
  {
   "cell_type": "code",
   "execution_count": 33,
   "id": "8ec950ad",
   "metadata": {
    "scrolled": true
   },
   "outputs": [
    {
     "data": {
      "text/plain": [
       "<AxesSubplot:xlabel='parameter'>"
      ]
     },
     "execution_count": 33,
     "metadata": {},
     "output_type": "execute_result"
    },
    {
     "data": {
      "image/png": "[encoded data removed]",
      "text/plain": [
       "<Figure size 432x288 with 1 Axes>"
      ]
     },
     "metadata": {
      "needs_background": "light"
     },
     "output_type": "display_data"
    }
   ],
   "source": [
    "para=air_quality.groupby('parameter')['parameter'].count()\n",
    "#print(para)\n",
    "sns.barplot(y=para.values,x=para.index)\n"
   ]
  },
  {
   "cell_type": "code",
   "execution_count": 38,
   "id": "3e54bbc6",
   "metadata": {},
   "outputs": [
    {
     "name": "stdout",
     "output_type": "stream",
     "text": [
      "download ready\n"
     ]
    }
   ],
   "source": [
    "import requests\n",
    "import pandas as pd\n",
    "download_url=\"https://raw.githubusercontent.com/fivethirtyeight/data/master/nba-elo/nbaallelo.csv\"\n",
    "target_csv_path=\"nba_all_elo.csv\"\n",
    "response=requests.get(download_url)\n",
    "response.raise_for_status()\n",
    "with open(target_csv_path,\"wb\") as f:\n",
    "    f.write(response.content)\n",
    "print(\"download ready\")"
   ]
  },
  {
   "cell_type": "code",
   "execution_count": 2,
   "id": "fe6cf68b",
   "metadata": {},
   "outputs": [
    {
     "name": "stdout",
     "output_type": "stream",
     "text": [
      "<class 'pandas.core.frame.DataFrame'>\n",
      "RangeIndex: 126314 entries, 0 to 126313\n",
      "Data columns (total 23 columns):\n",
      " #   Column         Non-Null Count   Dtype  \n",
      "---  ------         --------------   -----  \n",
      " 0   gameorder      126314 non-null  int64  \n",
      " 1   game_id        126314 non-null  object \n",
      " 2   lg_id          126314 non-null  object \n",
      " 3   _iscopy        126314 non-null  int64  \n",
      " 4   year_id        126314 non-null  int64  \n",
      " 5   date_game      126314 non-null  object \n",
      " 6   seasongame     126314 non-null  int64  \n",
      " 7   is_playoffs    126314 non-null  int64  \n",
      " 8   team_id        126314 non-null  object \n",
      " 9   fran_id        126314 non-null  object \n",
      " 10  pts            126314 non-null  int64  \n",
      " 11  elo_i          126314 non-null  float64\n",
      " 12  elo_n          126314 non-null  float64\n",
      " 13  win_equiv      126314 non-null  float64\n",
      " 14  opp_id         126314 non-null  object \n",
      " 15  opp_fran       126314 non-null  object \n",
      " 16  opp_pts        126314 non-null  int64  \n",
      " 17  opp_elo_i      126314 non-null  float64\n",
      " 18  opp_elo_n      126314 non-null  float64\n",
      " 19  game_location  126314 non-null  object \n",
      " 20  game_result    126314 non-null  object \n",
      " 21  forecast       126314 non-null  float64\n",
      " 22  notes          5424 non-null    object \n",
      "dtypes: float64(6), int64(7), object(10)\n",
      "memory usage: 22.2+ MB\n"
     ]
    }
   ],
   "source": [
    "import pandas as pd\n",
    "nba=pd.read_csv(\"nba_all_elo.csv\")\n",
    "nba.info()"
   ]
  },
  {
   "cell_type": "code",
   "execution_count": 3,
   "id": "76bad678",
   "metadata": {},
   "outputs": [],
   "source": [
    "import pandas as pd\n",
    "nba=pd.read_csv(\"nba_all_elo.csv\")\n",
    "#nba['team_id'].value_counts()\n",
    "#nba['fran_id'].value_counts()\n"
   ]
  },
  {
   "cell_type": "code",
   "execution_count": 4,
   "id": "054b4240",
   "metadata": {},
   "outputs": [
    {
     "data": {
      "text/html": [
       "<div>\n",
       "<style scoped>\n",
       "    .dataframe tbody tr th:only-of-type {\n",
       "        vertical-align: middle;\n",
       "    }\n",
       "\n",
       "    .dataframe tbody tr th {\n",
       "        vertical-align: top;\n",
       "    }\n",
       "\n",
       "    .dataframe thead th {\n",
       "        text-align: right;\n",
       "    }\n",
       "</style>\n",
       "<table border=\"1\" class=\"dataframe\">\n",
       "  <thead>\n",
       "    <tr style=\"text-align: right;\">\n",
       "      <th></th>\n",
       "      <th>gameorder</th>\n",
       "      <th>game_id</th>\n",
       "      <th>lg_id</th>\n",
       "      <th>_iscopy</th>\n",
       "      <th>year_id</th>\n",
       "      <th>date_game</th>\n",
       "      <th>seasongame</th>\n",
       "      <th>is_playoffs</th>\n",
       "      <th>team_id</th>\n",
       "      <th>fran_id</th>\n",
       "      <th>...</th>\n",
       "      <th>win_equiv</th>\n",
       "      <th>opp_id</th>\n",
       "      <th>opp_fran</th>\n",
       "      <th>opp_pts</th>\n",
       "      <th>opp_elo_i</th>\n",
       "      <th>opp_elo_n</th>\n",
       "      <th>game_location</th>\n",
       "      <th>game_result</th>\n",
       "      <th>forecast</th>\n",
       "      <th>notes</th>\n",
       "    </tr>\n",
       "  </thead>\n",
       "  <tbody>\n",
       "    <tr>\n",
       "      <th>126309</th>\n",
       "      <td>63155</td>\n",
       "      <td>201506110CLE</td>\n",
       "      <td>NBA</td>\n",
       "      <td>0</td>\n",
       "      <td>2015</td>\n",
       "      <td>6/11/2015</td>\n",
       "      <td>100</td>\n",
       "      <td>1</td>\n",
       "      <td>CLE</td>\n",
       "      <td>Cavaliers</td>\n",
       "      <td>...</td>\n",
       "      <td>60.309792</td>\n",
       "      <td>GSW</td>\n",
       "      <td>Warriors</td>\n",
       "      <td>103</td>\n",
       "      <td>1790.9591</td>\n",
       "      <td>1809.9791</td>\n",
       "      <td>H</td>\n",
       "      <td>L</td>\n",
       "      <td>0.546572</td>\n",
       "      <td>NaN</td>\n",
       "    </tr>\n",
       "    <tr>\n",
       "      <th>126310</th>\n",
       "      <td>63156</td>\n",
       "      <td>201506140GSW</td>\n",
       "      <td>NBA</td>\n",
       "      <td>0</td>\n",
       "      <td>2015</td>\n",
       "      <td>6/14/2015</td>\n",
       "      <td>102</td>\n",
       "      <td>1</td>\n",
       "      <td>GSW</td>\n",
       "      <td>Warriors</td>\n",
       "      <td>...</td>\n",
       "      <td>68.013329</td>\n",
       "      <td>CLE</td>\n",
       "      <td>Cavaliers</td>\n",
       "      <td>91</td>\n",
       "      <td>1704.3949</td>\n",
       "      <td>1700.7391</td>\n",
       "      <td>H</td>\n",
       "      <td>W</td>\n",
       "      <td>0.765565</td>\n",
       "      <td>NaN</td>\n",
       "    </tr>\n",
       "    <tr>\n",
       "      <th>126311</th>\n",
       "      <td>63156</td>\n",
       "      <td>201506140GSW</td>\n",
       "      <td>NBA</td>\n",
       "      <td>1</td>\n",
       "      <td>2015</td>\n",
       "      <td>6/14/2015</td>\n",
       "      <td>101</td>\n",
       "      <td>1</td>\n",
       "      <td>CLE</td>\n",
       "      <td>Cavaliers</td>\n",
       "      <td>...</td>\n",
       "      <td>60.010067</td>\n",
       "      <td>GSW</td>\n",
       "      <td>Warriors</td>\n",
       "      <td>104</td>\n",
       "      <td>1809.9791</td>\n",
       "      <td>1813.6349</td>\n",
       "      <td>A</td>\n",
       "      <td>L</td>\n",
       "      <td>0.234435</td>\n",
       "      <td>NaN</td>\n",
       "    </tr>\n",
       "    <tr>\n",
       "      <th>126312</th>\n",
       "      <td>63157</td>\n",
       "      <td>201506170CLE</td>\n",
       "      <td>NBA</td>\n",
       "      <td>0</td>\n",
       "      <td>2015</td>\n",
       "      <td>6/16/2015</td>\n",
       "      <td>102</td>\n",
       "      <td>1</td>\n",
       "      <td>CLE</td>\n",
       "      <td>Cavaliers</td>\n",
       "      <td>...</td>\n",
       "      <td>59.290245</td>\n",
       "      <td>GSW</td>\n",
       "      <td>Warriors</td>\n",
       "      <td>105</td>\n",
       "      <td>1813.6349</td>\n",
       "      <td>1822.2881</td>\n",
       "      <td>H</td>\n",
       "      <td>L</td>\n",
       "      <td>0.481450</td>\n",
       "      <td>NaN</td>\n",
       "    </tr>\n",
       "    <tr>\n",
       "      <th>126313</th>\n",
       "      <td>63157</td>\n",
       "      <td>201506170CLE</td>\n",
       "      <td>NBA</td>\n",
       "      <td>1</td>\n",
       "      <td>2015</td>\n",
       "      <td>6/16/2015</td>\n",
       "      <td>103</td>\n",
       "      <td>1</td>\n",
       "      <td>GSW</td>\n",
       "      <td>Warriors</td>\n",
       "      <td>...</td>\n",
       "      <td>68.519516</td>\n",
       "      <td>CLE</td>\n",
       "      <td>Cavaliers</td>\n",
       "      <td>97</td>\n",
       "      <td>1700.7391</td>\n",
       "      <td>1692.0859</td>\n",
       "      <td>A</td>\n",
       "      <td>W</td>\n",
       "      <td>0.518550</td>\n",
       "      <td>NaN</td>\n",
       "    </tr>\n",
       "  </tbody>\n",
       "</table>\n",
       "<p>5 rows × 23 columns</p>\n",
       "</div>"
      ],
      "text/plain": [
       "        gameorder       game_id lg_id  _iscopy  year_id  date_game  \\\n",
       "126309      63155  201506110CLE   NBA        0     2015  6/11/2015   \n",
       "126310      63156  201506140GSW   NBA        0     2015  6/14/2015   \n",
       "126311      63156  201506140GSW   NBA        1     2015  6/14/2015   \n",
       "126312      63157  201506170CLE   NBA        0     2015  6/16/2015   \n",
       "126313      63157  201506170CLE   NBA        1     2015  6/16/2015   \n",
       "\n",
       "        seasongame  is_playoffs team_id    fran_id  ...  win_equiv  opp_id  \\\n",
       "126309         100            1     CLE  Cavaliers  ...  60.309792     GSW   \n",
       "126310         102            1     GSW   Warriors  ...  68.013329     CLE   \n",
       "126311         101            1     CLE  Cavaliers  ...  60.010067     GSW   \n",
       "126312         102            1     CLE  Cavaliers  ...  59.290245     GSW   \n",
       "126313         103            1     GSW   Warriors  ...  68.519516     CLE   \n",
       "\n",
       "         opp_fran  opp_pts  opp_elo_i  opp_elo_n  game_location  game_result  \\\n",
       "126309   Warriors      103  1790.9591  1809.9791              H            L   \n",
       "126310  Cavaliers       91  1704.3949  1700.7391              H            W   \n",
       "126311   Warriors      104  1809.9791  1813.6349              A            L   \n",
       "126312   Warriors      105  1813.6349  1822.2881              H            L   \n",
       "126313  Cavaliers       97  1700.7391  1692.0859              A            W   \n",
       "\n",
       "        forecast notes  \n",
       "126309  0.546572   NaN  \n",
       "126310  0.765565   NaN  \n",
       "126311  0.234435   NaN  \n",
       "126312  0.481450   NaN  \n",
       "126313  0.518550   NaN  \n",
       "\n",
       "[5 rows x 23 columns]"
      ]
     },
     "execution_count": 4,
     "metadata": {},
     "output_type": "execute_result"
    }
   ],
   "source": [
    "import pandas as pd\n",
    "nba=pd.read_csv(\"nba_all_elo.csv\")\n",
    "nba.tail()"
   ]
  },
  {
   "cell_type": "code",
   "execution_count": 5,
   "id": "43060c95",
   "metadata": {},
   "outputs": [
    {
     "data": {
      "text/html": [
       "<div>\n",
       "<style scoped>\n",
       "    .dataframe tbody tr th:only-of-type {\n",
       "        vertical-align: middle;\n",
       "    }\n",
       "\n",
       "    .dataframe tbody tr th {\n",
       "        vertical-align: top;\n",
       "    }\n",
       "\n",
       "    .dataframe thead th {\n",
       "        text-align: right;\n",
       "    }\n",
       "</style>\n",
       "<table border=\"1\" class=\"dataframe\">\n",
       "  <thead>\n",
       "    <tr style=\"text-align: right;\">\n",
       "      <th></th>\n",
       "      <th>gameorder</th>\n",
       "      <th>_iscopy</th>\n",
       "      <th>year_id</th>\n",
       "      <th>seasongame</th>\n",
       "      <th>is_playoffs</th>\n",
       "      <th>pts</th>\n",
       "      <th>elo_i</th>\n",
       "      <th>elo_n</th>\n",
       "      <th>win_equiv</th>\n",
       "      <th>opp_pts</th>\n",
       "      <th>opp_elo_i</th>\n",
       "      <th>opp_elo_n</th>\n",
       "      <th>forecast</th>\n",
       "    </tr>\n",
       "  </thead>\n",
       "  <tbody>\n",
       "    <tr>\n",
       "      <th>count</th>\n",
       "      <td>126314.000000</td>\n",
       "      <td>126314.000000</td>\n",
       "      <td>126314.000000</td>\n",
       "      <td>126314.000000</td>\n",
       "      <td>126314.000000</td>\n",
       "      <td>126314.000000</td>\n",
       "      <td>126314.000000</td>\n",
       "      <td>126314.000000</td>\n",
       "      <td>126314.000000</td>\n",
       "      <td>126314.000000</td>\n",
       "      <td>126314.000000</td>\n",
       "      <td>126314.000000</td>\n",
       "      <td>126314.000000</td>\n",
       "    </tr>\n",
       "    <tr>\n",
       "      <th>mean</th>\n",
       "      <td>31579.000000</td>\n",
       "      <td>0.500000</td>\n",
       "      <td>1988.200374</td>\n",
       "      <td>43.533733</td>\n",
       "      <td>0.063857</td>\n",
       "      <td>102.729982</td>\n",
       "      <td>1495.236055</td>\n",
       "      <td>1495.236055</td>\n",
       "      <td>41.707889</td>\n",
       "      <td>102.729982</td>\n",
       "      <td>1495.236055</td>\n",
       "      <td>1495.236055</td>\n",
       "      <td>0.500000</td>\n",
       "    </tr>\n",
       "    <tr>\n",
       "      <th>std</th>\n",
       "      <td>18231.927643</td>\n",
       "      <td>0.500002</td>\n",
       "      <td>17.582309</td>\n",
       "      <td>25.375178</td>\n",
       "      <td>0.244499</td>\n",
       "      <td>14.814845</td>\n",
       "      <td>112.139945</td>\n",
       "      <td>112.461687</td>\n",
       "      <td>10.627332</td>\n",
       "      <td>14.814845</td>\n",
       "      <td>112.139945</td>\n",
       "      <td>112.461687</td>\n",
       "      <td>0.215252</td>\n",
       "    </tr>\n",
       "    <tr>\n",
       "      <th>min</th>\n",
       "      <td>1.000000</td>\n",
       "      <td>0.000000</td>\n",
       "      <td>1947.000000</td>\n",
       "      <td>1.000000</td>\n",
       "      <td>0.000000</td>\n",
       "      <td>0.000000</td>\n",
       "      <td>1091.644500</td>\n",
       "      <td>1085.774400</td>\n",
       "      <td>10.152501</td>\n",
       "      <td>0.000000</td>\n",
       "      <td>1091.644500</td>\n",
       "      <td>1085.774400</td>\n",
       "      <td>0.020447</td>\n",
       "    </tr>\n",
       "    <tr>\n",
       "      <th>25%</th>\n",
       "      <td>15790.000000</td>\n",
       "      <td>0.000000</td>\n",
       "      <td>1975.000000</td>\n",
       "      <td>22.000000</td>\n",
       "      <td>0.000000</td>\n",
       "      <td>93.000000</td>\n",
       "      <td>1417.237975</td>\n",
       "      <td>1416.994900</td>\n",
       "      <td>34.103035</td>\n",
       "      <td>93.000000</td>\n",
       "      <td>1417.237975</td>\n",
       "      <td>1416.994900</td>\n",
       "      <td>0.327989</td>\n",
       "    </tr>\n",
       "    <tr>\n",
       "      <th>50%</th>\n",
       "      <td>31579.000000</td>\n",
       "      <td>0.500000</td>\n",
       "      <td>1990.000000</td>\n",
       "      <td>43.000000</td>\n",
       "      <td>0.000000</td>\n",
       "      <td>103.000000</td>\n",
       "      <td>1500.945550</td>\n",
       "      <td>1500.954400</td>\n",
       "      <td>42.113357</td>\n",
       "      <td>103.000000</td>\n",
       "      <td>1500.945550</td>\n",
       "      <td>1500.954400</td>\n",
       "      <td>0.500000</td>\n",
       "    </tr>\n",
       "    <tr>\n",
       "      <th>75%</th>\n",
       "      <td>47368.000000</td>\n",
       "      <td>1.000000</td>\n",
       "      <td>2003.000000</td>\n",
       "      <td>65.000000</td>\n",
       "      <td>0.000000</td>\n",
       "      <td>112.000000</td>\n",
       "      <td>1576.060000</td>\n",
       "      <td>1576.291625</td>\n",
       "      <td>49.635328</td>\n",
       "      <td>112.000000</td>\n",
       "      <td>1576.060000</td>\n",
       "      <td>1576.291625</td>\n",
       "      <td>0.672011</td>\n",
       "    </tr>\n",
       "    <tr>\n",
       "      <th>max</th>\n",
       "      <td>63157.000000</td>\n",
       "      <td>1.000000</td>\n",
       "      <td>2015.000000</td>\n",
       "      <td>108.000000</td>\n",
       "      <td>1.000000</td>\n",
       "      <td>186.000000</td>\n",
       "      <td>1853.104500</td>\n",
       "      <td>1853.104500</td>\n",
       "      <td>71.112038</td>\n",
       "      <td>186.000000</td>\n",
       "      <td>1853.104500</td>\n",
       "      <td>1853.104500</td>\n",
       "      <td>0.979553</td>\n",
       "    </tr>\n",
       "  </tbody>\n",
       "</table>\n",
       "</div>"
      ],
      "text/plain": [
       "           gameorder        _iscopy        year_id     seasongame  \\\n",
       "count  126314.000000  126314.000000  126314.000000  126314.000000   \n",
       "mean    31579.000000       0.500000    1988.200374      43.533733   \n",
       "std     18231.927643       0.500002      17.582309      25.375178   \n",
       "min         1.000000       0.000000    1947.000000       1.000000   \n",
       "25%     15790.000000       0.000000    1975.000000      22.000000   \n",
       "50%     31579.000000       0.500000    1990.000000      43.000000   \n",
       "75%     47368.000000       1.000000    2003.000000      65.000000   \n",
       "max     63157.000000       1.000000    2015.000000     108.000000   \n",
       "\n",
       "         is_playoffs            pts          elo_i          elo_n  \\\n",
       "count  126314.000000  126314.000000  126314.000000  126314.000000   \n",
       "mean        0.063857     102.729982    1495.236055    1495.236055   \n",
       "std         0.244499      14.814845     112.139945     112.461687   \n",
       "min         0.000000       0.000000    1091.644500    1085.774400   \n",
       "25%         0.000000      93.000000    1417.237975    1416.994900   \n",
       "50%         0.000000     103.000000    1500.945550    1500.954400   \n",
       "75%         0.000000     112.000000    1576.060000    1576.291625   \n",
       "max         1.000000     186.000000    1853.104500    1853.104500   \n",
       "\n",
       "           win_equiv        opp_pts      opp_elo_i      opp_elo_n  \\\n",
       "count  126314.000000  126314.000000  126314.000000  126314.000000   \n",
       "mean       41.707889     102.729982    1495.236055    1495.236055   \n",
       "std        10.627332      14.814845     112.139945     112.461687   \n",
       "min        10.152501       0.000000    1091.644500    1085.774400   \n",
       "25%        34.103035      93.000000    1417.237975    1416.994900   \n",
       "50%        42.113357     103.000000    1500.945550    1500.954400   \n",
       "75%        49.635328     112.000000    1576.060000    1576.291625   \n",
       "max        71.112038     186.000000    1853.104500    1853.104500   \n",
       "\n",
       "            forecast  \n",
       "count  126314.000000  \n",
       "mean        0.500000  \n",
       "std         0.215252  \n",
       "min         0.020447  \n",
       "25%         0.327989  \n",
       "50%         0.500000  \n",
       "75%         0.672011  \n",
       "max         0.979553  "
      ]
     },
     "execution_count": 5,
     "metadata": {},
     "output_type": "execute_result"
    }
   ],
   "source": [
    "import pandas as pd\n",
    "nba=pd.read_csv(\"nba_all_elo.csv\")\n",
    "nba.describe()"
   ]
  },
  {
   "cell_type": "code",
   "execution_count": 8,
   "id": "00b19322",
   "metadata": {},
   "outputs": [
    {
     "data": {
      "text/plain": [
       "LAL    5078\n",
       "MNL     946\n",
       "Name: team_id, dtype: int64"
      ]
     },
     "execution_count": 8,
     "metadata": {},
     "output_type": "execute_result"
    }
   ],
   "source": [
    "import pandas as pd\n",
    "nba=pd.read_csv(\"nba_all_elo.csv\")\n",
    "#nba['team_id'].value_counts()\n",
    "#nba['fran_id'].value_counts()\n",
    "nba.loc[nba['fran_id']==\"Lakers\",\"team_id\"].value_counts()"
   ]
  },
  {
   "cell_type": "code",
   "execution_count": 9,
   "id": "d8820d9d",
   "metadata": {},
   "outputs": [
    {
     "data": {
      "text/plain": [
       "<matplotlib.collections.PathCollection at 0x178b2188760>"
      ]
     },
     "execution_count": 9,
     "metadata": {},
     "output_type": "execute_result"
    },
    {
     "data": {
      "image/png": "[encoded data removed]",
      "text/plain": [
       "<Figure size 432x288 with 1 Axes>"
      ]
     },
     "metadata": {},
     "output_type": "display_data"
    }
   ],
   "source": [
    "#linear regression\n",
    "%matplotlib inline\n",
    "import matplotlib.pyplot as plt\n",
    "import seaborn as sns; sns.set()\n",
    "import numpy as np\n",
    "\n",
    "rng=np.random.RandomState(1)\n",
    "x=10*rng.rand(50)\n",
    "y=2*x-5+rng.randn(50)\n",
    "plt.scatter(x,y)\n",
    "\n"
   ]
  },
  {
   "cell_type": "code",
   "execution_count": null,
   "id": "bdbf1e82",
   "metadata": {},
   "outputs": [],
   "source": []
  }
 ],
 "metadata": {
  "kernelspec": {
   "display_name": "Python 3",
   "language": "python",
   "name": "python3"
  },
  "language_info": {
   "codemirror_mode": {
    "name": "ipython",
    "version": 3
   },
   "file_extension": ".py",
   "mimetype": "text/x-python",
   "name": "python",
   "nbconvert_exporter": "python",
   "pygments_lexer": "ipython3",
   "version": "3.8.8"
  }
 },
 "nbformat": 4,
 "nbformat_minor": 5
}
